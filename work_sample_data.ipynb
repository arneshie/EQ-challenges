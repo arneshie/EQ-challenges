{
 "cells": [
  {
   "cell_type": "code",
   "execution_count": 440,
   "id": "693131c7-8352-4352-9bba-7849570090c7",
   "metadata": {},
   "outputs": [],
   "source": [
    "from pyspark.sql import SparkSession\n",
    "\n",
    "spark = SparkSession.builder.master('local').getOrCreate()"
   ]
  },
  {
   "cell_type": "code",
   "execution_count": 441,
   "id": "1525e896-d193-479b-94de-a88a4e55a988",
   "metadata": {},
   "outputs": [
    {
     "name": "stdout",
     "output_type": "stream",
     "text": [
      "+-----+---------+-----------+\n",
      "|POIID| Latitude|  Longitude|\n",
      "+-----+---------+-----------+\n",
      "| POI1|53.546167|-113.485734|\n",
      "| POI2|53.546167|-113.485734|\n",
      "| POI3|45.521629| -73.566024|\n",
      "| POI4| 45.22483| -63.232729|\n",
      "+-----+---------+-----------+\n",
      "\n",
      "+-------+--------------------+-------+--------+------------+--------+---------+\n",
      "|    _ID|              TimeSt|Country|Province|        City|Latitude|Longitude|\n",
      "+-------+--------------------+-------+--------+------------+--------+---------+\n",
      "|4516516|2017-06-21 00:00:...|     CA|      ON|    Waterloo|43.49347|-80.49123|\n",
      "|4516547|2017-06-21 18:00:...|     CA|      ON|      London| 42.9399| -81.2709|\n",
      "|4516550|2017-06-21 15:00:...|     CA|      ON|      Guelph| 43.5776| -80.2201|\n",
      "|4516600|2017-06-21 15:00:...|     CA|      ON|   Stratford| 43.3716| -80.9773|\n",
      "|4516613|2017-06-21 15:00:...|     CA|      ON|   Stratford| 43.3716| -80.9773|\n",
      "|4516693|2017-06-21 14:00:...|     CA|      ON|   Kitchener| 43.4381| -80.5099|\n",
      "|4516771|2017-06-21 10:00:...|     CA|      ON|      Sarnia|  42.961|  -82.373|\n",
      "|4516831|2017-06-21 12:00:...|     CA|      ON|      London| 43.0091| -81.1765|\n",
      "|4516915|2017-06-21 15:00:...|     CA|      ON|      London| 43.0091| -81.1765|\n",
      "|4516953|2017-06-21 16:00:...|     CA|      ON|   Kitchener| 43.4278| -80.5135|\n",
      "|4516966|2017-06-21 01:00:...|     CA|      ON|   Kitchener| 43.4381| -80.5099|\n",
      "|4517044|2017-06-21 21:00:...|     CA|      ON|     Windsor| 42.2825| -83.0372|\n",
      "|4517047|2017-06-21 12:00:...|     CA|      ON|      London| 43.0091| -81.1765|\n",
      "|4517081|2017-06-21 22:00:...|     CA|      ON|     Windsor|42.24397|-82.98058|\n",
      "|4517175|2017-06-21 19:00:...|     CA|      ON|Saint Thomas| 42.7792| -81.1927|\n",
      "|4517220|2017-06-21 18:00:...|     CA|      ON|    Waterloo| 43.4634| -80.5201|\n",
      "|4517250|2017-06-21 03:00:...|     CA|      ON|     Chatham| 42.4247| -82.1755|\n",
      "|4517303|2017-06-21 03:00:...|     CA|      ON|     Windsor| 42.2957| -82.9599|\n",
      "|4517326|2017-06-21 04:00:...|     CA|      ON|      Guelph| 43.5425| -80.2676|\n",
      "|4517347|2017-06-21 03:00:...|     CA|      ON|     Windsor| 42.2957| -82.9599|\n",
      "+-------+--------------------+-------+--------+------------+--------+---------+\n",
      "only showing top 20 rows\n",
      "\n"
     ]
    }
   ],
   "source": [
    "import os\n",
    "\n",
    "# Load the df(s) from file\n",
    "\n",
    "df = spark.read.options(\n",
    "    header='True',\n",
    "    inferSchema='True',\n",
    "    delimiter=',',\n",
    ").csv(os.path.expanduser('~/data/DataSample.csv'))\n",
    "\n",
    "POI = spark.read.options(\n",
    "    header='True',\n",
    "    inferSchema='True',\n",
    "    delimiter=',',\n",
    ").csv(os.path.expanduser('~/data/POIList.csv'))\n",
    "\n",
    "# Display for testing & debugging\n",
    "POI.show()\n",
    "df.show()"
   ]
  },
  {
   "cell_type": "code",
   "execution_count": 442,
   "id": "dcdcc76a-ff22-4233-8cc7-e32dc80def9c",
   "metadata": {},
   "outputs": [],
   "source": [
    "# Step 1: Clean the data. \n",
    "df = df.dropDuplicates([' TimeSt', 'Latitude', 'Longitude'])\n",
    "\n",
    "# Assumption: Two POIs at the same geolocation should be cleaned - they are the exact same location. It is impossible to assign a request to \"the closest\" POI if there are two at the same location.\n",
    "POI = POI.dropDuplicates([' Latitude', 'Longitude'])"
   ]
  },
  {
   "cell_type": "code",
   "execution_count": 449,
   "id": "4a61354e-3f0f-42d7-8bfc-1b2530479708",
   "metadata": {},
   "outputs": [],
   "source": [
    "# Step 2: Assigning the requests to their nearest POI.\n",
    "# In order to accomplish this, each request needs have its distance calculated to all POIs in the POI df in order to determine the minimum (linear search)\n",
    "# This needs to be done for each request -> O(n * m) where n = size(requests) & m = size(POI). Can be accomplished with a nested loop.\n",
    "# However, Apache Spark does not seem to support iteration by row, and instead prefers RDD. In order to accomplish this, the POI data needs to be changed to a list.\n",
    "# A function can be written to iterate the different POIs and then this function can be called in the lambda function call for the RDD.\n",
    "# Perhaps not the most scalable solution, as collecting a larger list can cause inefficiencies and even crashes, but for this use case it seems appropriate and convienient.\n",
    "\n",
    "POILatitudes = [float(row[' Latitude']) for row in POI.collect()]\n",
    "POILongitudes = [float(row['Longitude']) for row in POI.collect()]\n",
    "POIIds = [float(i) for i in range(len(POILatitudes))]\n"
   ]
  },
  {
   "cell_type": "code",
   "execution_count": 444,
   "id": "915ad4d1-680e-4cb8-a3f3-f845ff3cb3b8",
   "metadata": {},
   "outputs": [],
   "source": [
    "# Useful helper functions for step 2.\n",
    "\n",
    "# haversine distance formula implementation (distance between two points, given longitude & lattitude) \n",
    "import math\n",
    "def haversine(lat1, lon1, lat2, lon2):\n",
    "    # Calculate in KM\n",
    "    R = 6370\n",
    "    \n",
    "    # Convert each latitude and longitude to radians\n",
    "    lat1 = radians(lat1)  \n",
    "    lon1 = radians(lon1)\n",
    "    lat2 = radians(lat2)\n",
    "    lon2 = radians(lon2)\n",
    "\n",
    "    # Take the absolute distance in radians and convert using formula\n",
    "    dlon = abs(lon2 - lon1)\n",
    "    dlat = abs(lat2 - lat1)\n",
    "\n",
    "    a = sin(dlat / 2)**2 + cos(lat1) * cos(lat2) * sin(dlon / 2)**2\n",
    "    c = 2 * atan2(sqrt(a), sqrt(1-a))\n",
    "    return R * c\n",
    "\n",
    "# Returns the closest POI and the actual distance of it. Compares to ALL POIs in the df to find the minimum.\n",
    "def smallest_geo(lat, long):\n",
    "    # Simple linear search for minimum in a list - all elements need to be checked.\n",
    "    smallestDist = float('inf')\n",
    "    POI = -1\n",
    "    for i in range(len(POILatitudes)):\n",
    "        dist = haversine(lat, long, POILatitudes[i], POILongitudes[i])\n",
    "        if dist < smallestDist:\n",
    "            smallestDist = dist\n",
    "            POI = i\n",
    "    return smallestDist, POI"
   ]
  },
  {
   "cell_type": "code",
   "execution_count": 445,
   "id": "b2152dc2-30dc-4d7d-94ba-7a96e2ca3016",
   "metadata": {},
   "outputs": [
    {
     "name": "stdout",
     "output_type": "stream",
     "text": [
      "+-------+--------------------+-------+--------+-------------+--------+----------+---------------------+---------------+\n",
      "|    _ID|              TimeSt|Country|Province|         City|Latitude| Longitude|ClosestPOI (distance)|ClosestPOI (id)|\n",
      "+-------+--------------------+-------+--------+-------------+--------+----------+---------------------+---------------+\n",
      "|4516516|2017-06-21 00:00:...|     CA|      ON|     Waterloo|43.49347| -80.49123|     593.320298328476|              1|\n",
      "|4519209|2017-06-21 00:00:...|     CA|      ON|      Hanover| 44.1517|  -81.0266|      607.32332418404|              1|\n",
      "|4518130|2017-06-21 00:00:...|     CA|      ON|       London| 43.0004|  -81.2343|    671.4556427927032|              1|\n",
      "|5368841|2017-06-21 00:00:...|     CA|      ON|       Nepean| 45.2778|  -75.7563|   173.11156962958216|              1|\n",
      "|4521574|2017-06-21 00:00:...|     CA|      ON|    Brantford| 43.1508|  -80.2094|     590.126274312235|              1|\n",
      "|4523455|2017-06-21 00:00:...|     CA|      ON|       London| 43.0091|  -81.1765|    666.8369816798343|              1|\n",
      "|4522231|2017-06-21 00:00:...|     CA|      ON|      Chatham| 42.4247|  -82.1755|    769.5403489410581|              1|\n",
      "|4522376|2017-06-21 00:00:...|     CA|      ON|     Waterloo| 43.4634|  -80.5201|    596.8382187748422|              1|\n",
      "|4524947|2017-06-21 00:00:...|     CA|      ON|    Kitchener| 43.4306|  -80.4877|    596.0204854278949|              1|\n",
      "|4526599|2017-06-21 00:00:...|     CA|      ON|     Ancaster|  43.208|  -79.9652|    569.7223539054826|              1|\n",
      "|5373332|2017-06-21 00:00:...|     CA|      ON|   Burlington| 43.3889|  -79.7682|    546.1240400776991|              1|\n",
      "|4528952|2017-06-21 00:00:...|     CA|      ON|     Brampton| 43.7796|  -79.7681|    527.2064807196556|              1|\n",
      "|5376475|2017-06-21 00:00:...|     CA|      QC|      Beloeil|  45.565|  -73.1913|   29.573728414240968|              1|\n",
      "|5377445|2017-06-21 00:00:...|     CA|      AB|      Calgary| 51.0494| -113.9564|   279.42103508250284|              2|\n",
      "|4530820|2017-06-21 00:00:...|     CA|      NB|      Moncton| 46.1183|  -64.7338|   153.18156263682025|              0|\n",
      "|5379399|2017-06-21 00:00:...|     CA|      NL|  Bay Roberts| 47.6212|  -53.1424|    817.1824028910033|              0|\n",
      "|4534383|2017-06-21 00:00:...|     CA|      AB|Fort Mcmurray|56.74308|-111.47651|    377.6151172735327|              2|\n",
      "|5380915|2017-06-21 00:01:...|     CA|      AB|      Calgary| 51.1588| -113.9636|   267.39606643630333|              2|\n",
      "|4536827|2017-06-21 00:01:...|     CA|      ON|       Oshawa|43.90635| -78.87251|     455.967813648619|              1|\n",
      "|5380837|2017-06-21 00:01:...|     CA|      ON|         Ajax| 43.8959|  -79.0344|   468.22601670454657|              1|\n",
      "+-------+--------------------+-------+--------+-------------+--------+----------+---------------------+---------------+\n",
      "only showing top 20 rows\n",
      "\n"
     ]
    }
   ],
   "source": [
    "# Apply the functions to the requests dataframe and add their results to the table.\n",
    "rdd = df.rdd.map(lambda x:            \n",
    "                 (x[0], x[1], x[2], x[3], x[4], x[5], x[6], smallest_geo(x[5], x[6]) [0], smallest_geo(x[5], x[6]) [1])\n",
    "                )\n",
    "df = rdd.toDF(['_ID', 'TimeSt', 'Country', 'Province', 'City', 'Latitude', 'Longitude', 'ClosestPOI (distance)', 'ClosestPOI (id)'])\n",
    "\n",
    "# Display new table\n",
    "df.show()"
   ]
  },
  {
   "cell_type": "code",
   "execution_count": 464,
   "id": "07962e04-ada0-4aac-9d24-92bb701aeaa5",
   "metadata": {},
   "outputs": [
    {
     "name": "stdout",
     "output_type": "stream",
     "text": [
      "+------+------------------+------------------+------------------+--------------------+\n",
      "|POI ID|         Mean Dist|           Std Dev|            Radius|             Density|\n",
      "+------+------------------+------------------+------------------+--------------------+\n",
      "|   0.0|497.20067338146583|12491.535071025728| 9348.105250039951|1.737486022149189...|\n",
      "|   1.0| 451.4566830481075|15361.656814412267|1474.3495099861857|0.001434345146092434|\n",
      "|   2.0| 301.8594700072927|  20334.7761251102|11530.010783047906|2.329000685027570...|\n",
      "+------+------------------+------------------+------------------+--------------------+\n",
      "\n"
     ]
    }
   ],
   "source": [
    "from pyspark.sql import Row\n",
    "\n",
    "# Lists to store averages, std deviations, radii & densities - though not as scalable, in this instance (the count of the POI df is only 4) it is a simple and efficient sol'n\n",
    "POIAvgs = list()\n",
    "POIStdDevs = list()\n",
    "radii = list()\n",
    "densities = list()\n",
    " \n",
    "# Iterate the POIs -> perform operations to fill the lists, POI by POI.                 \n",
    "for i in range(POI.count()):\n",
    "    \n",
    "    # Filter the df to iterate by POI\n",
    "    df_i = df.filter(df[8] == i)\n",
    "    \n",
    "    # Radius, density calculations. Radius will be the distance for the point furthest away to this POI, for which this POI is still the closest POI.\n",
    "    radius = df_i.agg({'closestPOI (distance)' : 'max'}).collect()[0]['max(closestPOI (distance))']\n",
    "    radii.append(radius)\n",
    "    area = math.pi * radius * radius\n",
    "    density = df_i.count() / area\n",
    "    densities.append(density)\n",
    "    \n",
    "    # print('Density: ', density)\n",
    "    \n",
    "    # Calculate the mean distance to POI & use it to calculate the std. dev.\n",
    "    POIAvgs.append(df_i.agg({'closestPOI (distance)' : 'avg'}).collect()[0]['avg(closestPOI (distance))'])\n",
    "    rdd = df_i.rdd.map(lambda x:\n",
    "                 (1, abs(x[7] - POIAvgs[i]))\n",
    "                      )\n",
    "    df_i = rdd.toDF(['filler', 'value'])\n",
    "    sum_deviation = df_i.rdd.map(lambda x: (1, x[1])).reduceByKey(lambda x,y: x+y).collect()[0][1]\n",
    "    sum_deviation = sum_deviation ** 2\n",
    "    \n",
    "    # Legacy error handling for duplicate POIs, resulting in POIs with no requests. Left in for the case where this is actually ocurring.\n",
    "    try:\n",
    "        POIStdDevs.append(sqrt(sum_deviation / df_i.count()))\n",
    "    # Division by 0\n",
    "    except ZeroDivisionError: \n",
    "        POIStdDevs.append(0)\n",
    "\n",
    "# Display final results in tabular form\n",
    "data = [POIIds, POIAvgs, POIStdDevs, radii, densities]\n",
    "R = Row('POI ID', 'Mean Dist', 'Std Dev', 'Radius', 'Density')\n",
    "spark.sparkContext.parallelize([R(*r) for r in zip(*data)]).toDF().show()\n",
    "\n"
   ]
  },
  {
   "cell_type": "code",
   "execution_count": 467,
   "id": "4c6ee53e-5c9a-45a6-8956-6ca2a4437f82",
   "metadata": {},
   "outputs": [
    {
     "name": "stdout",
     "output_type": "stream",
     "text": [
      "(0.004319395832389716, 0.00863879005302761)\n",
      "(3.1291390755399267, 5.700147555941087)\n",
      "(0.03515140084101809, 0.07030193301660036)\n"
     ]
    }
   ],
   "source": [
    "# Step 4: Modelling\n",
    "# In order to visualize the popularity of each POI and map it to a range, my idea is to apply the sigmoid function or hyperbolic tangent to the product of each POI's density & mean distance to request.\n",
    "# My choice for using this function is that these functions have the highest values of the derivative near the middle values, making small changes/differences near the centre be more sensitive.\n",
    "# There is a slow, gradual acceleration/deceleration at the end points. The sigmoid function also outputs a value between 0 and 1, allowing us to easily scale & shift the output to be -10 to 10.\n",
    "\n",
    "def sigmoid(a,b):\n",
    "    x = a * b\n",
    "    return (1/(1+math.pow(math.e, -x)) * 20) - 10\n",
    "\n",
    "def tanh(a,b):\n",
    "    x = a * b\n",
    "    return (math.pow(math.e, x) - math.pow(math.e, -x)) / (math.pow(math.e, x) + math.pow(math.e, -x)) * 10\n",
    "\n",
    "def ranking(a,b):\n",
    "    return sigmoid(a,b), tanh(a,b)\n",
    "\n",
    "for i in range(len(POIAvgs)):\n",
    "    print(ranking(POIAvgs[i], densities[i]))"
   ]
  },
  {
   "cell_type": "code",
   "execution_count": null,
   "id": "f3745f0f-bb6e-496c-b985-2877a5cf6e78",
   "metadata": {},
   "outputs": [],
   "source": []
  }
 ],
 "metadata": {
  "kernelspec": {
   "display_name": "Python 3 (ipykernel)",
   "language": "python",
   "name": "python3"
  },
  "language_info": {
   "codemirror_mode": {
    "name": "ipython",
    "version": 3
   },
   "file_extension": ".py",
   "mimetype": "text/x-python",
   "name": "python",
   "nbconvert_exporter": "python",
   "pygments_lexer": "ipython3",
   "version": "3.10.5"
  }
 },
 "nbformat": 4,
 "nbformat_minor": 5
}
